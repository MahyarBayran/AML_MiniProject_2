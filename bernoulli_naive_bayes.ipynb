{
 "cells": [
  {
   "cell_type": "code",
   "execution_count": 1,
   "metadata": {},
   "outputs": [],
   "source": [
    "import math\n",
    "from collections import defaultdict\n",
    "\n",
    "class BernoulliNB(object):\n",
    "    p_y, p_x_y = None, None\n",
    "\n",
    "    def fit(self, x, y):\n",
    "        self.p_y = np.zeros((1, 1, 2), dtype=np.float64)\n",
    "        self.p_x_y = np.ones((x.shape[1], 2, 2), dtype=np.float64)  # NOTE: Laplace Smoothing\n",
    "\n",
    "        for x_i, y_i in zip(x, y):\n",
    "            self.p_y[0][0][y_i] += 1  # NOTE: P(y)\n",
    "            for j, x_i_j in enumerate(x_i):\n",
    "                self.p_x_y[j][x_i_j][y_i] += 1  # NOTE: P(x,y)\n",
    "\n",
    "        self.p_x_y /= self.p_y + 2\n",
    "        self.p_y /= self.p_y.sum()\n",
    "\n",
    "    def predict(self, x):\n",
    "        pr = []\n",
    "        for x_i in x:\n",
    "            lo = math.log2(self.p_y[1]) - math.log2(1 - self.p_y[1])\n",
    "            for j, x_i_j in enumerate(x_i):\n",
    "                lo += x_i_j * (math.log2(self.p_x_y[j][x_i_j][1]) - math.log2(self.p_x_y[j][x_i_j][0]))\n",
    "                lo += (1 - x_i_j) * (math.log2(1 - self.p_x_y[j][x_i_j][1]) - math.log2(1 - self.p_x_y[j][x_i_j][0]))\n",
    "            pr.append(int(lo >= 0))\n",
    "        return pr"
   ]
  },
  {
   "cell_type": "code",
   "execution_count": null,
   "metadata": {},
   "outputs": [],
   "source": []
  }
 ],
 "metadata": {
  "kernelspec": {
   "display_name": "Python 3",
   "language": "python",
   "name": "python3"
  },
  "language_info": {
   "codemirror_mode": {
    "name": "ipython",
    "version": 3
   },
   "file_extension": ".py",
   "mimetype": "text/x-python",
   "name": "python",
   "nbconvert_exporter": "python",
   "pygments_lexer": "ipython3",
   "version": "3.7.2"
  }
 },
 "nbformat": 4,
 "nbformat_minor": 2
}
