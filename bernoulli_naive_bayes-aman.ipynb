{
 "cells": [
  {
   "cell_type": "code",
   "execution_count": 7,
   "metadata": {},
   "outputs": [],
   "source": [
    "#Library imports \n",
    "import math\n",
    "from collections import defaultdict\n",
    "import string\n",
    "from sklearn.feature_extraction.text import CountVectorizer\n",
    "import numpy as np\n",
    "from sklearn import naive_bayes\n",
    "import os\n",
    "import numpy as np"
   ]
  },
  {
   "cell_type": "code",
   "execution_count": 2,
   "metadata": {},
   "outputs": [],
   "source": [
    "import logging\n",
    "from datetime import datetime\n",
    "\n",
    "import numpy as np\n",
    "\n",
    "logger = logging.getLogger(__name__)\n",
    "np.random.seed(2019)\n",
    "\n",
    "log_path = datetime.now().strftime('./logs/%Y-%m-%d-%H-%M-%S.log')\n",
    "logging.basicConfig(filename=log_path, level=logging.INFO)\n",
    "logging.getLogger().addHandler(logging.StreamHandler())"
   ]
  },
  {
   "cell_type": "markdown",
   "metadata": {},
   "source": [
    "#### Implementing Bernoulli Naive Baye's Classifier"
   ]
  },
  {
   "cell_type": "code",
   "execution_count": 1,
   "metadata": {},
   "outputs": [],
   "source": [
    "'''\n",
    "Implementation of Bernoulli Naive Bayes Classifier\n",
    "'''\n",
    "class BernoulliNB(object):\n",
    "    p_y, p_x_y = None, None\n",
    "\n",
    "    def fit(self, x, y):\n",
    "        self.p_y = np.zeros((1, 1, 2), dtype=np.float64)\n",
    "        self.p_x_y = np.ones((x.shape[1], 2, 2), dtype=np.float64)  # NOTE: Laplace Smoothing\n",
    "\n",
    "        for x_i, y_i in zip(x, y):\n",
    "            self.p_y[0][0][int(y_i)] += 1  # NOTE: P(y)\n",
    "            for j, x_i_j in enumerate(x_i):\n",
    "                self.p_x_y[j][int(x_i_j)][int(y_i)] += 1  # NOTE: P(x,y)\n",
    "\n",
    "        self.p_x_y /= self.p_y + 2\n",
    "        self.p_y /= self.p_y.sum()\n",
    "        return self\n",
    "\n",
    "    def predict(self, x):\n",
    "        pr = []\n",
    "        for x_i in x:\n",
    "            lo = math.log2(self.p_y[0][0][1]) - math.log2(1 - self.p_y[0][0][1])\n",
    "            for j, x_i_j in enumerate(x_i):\n",
    "                lo += math.log2(self.p_x_y[j][x_i_j][1]) - math.log2(self.p_x_y[j][x_i_j][0])\n",
    "            pr.append(int(lo >= 0))\n",
    "        return np.array(pr, dtype=np.float64)"
   ]
  },
  {
   "cell_type": "markdown",
   "metadata": {},
   "source": [
    "#### Loading Data from Memory"
   ]
  },
  {
   "cell_type": "code",
   "execution_count": 3,
   "metadata": {},
   "outputs": [],
   "source": [
    "def load_data(dp):\n",
    "    x = []\n",
    "    for fn in sorted(os.listdir(dp), key=lambda y: int(y[:-4])):\n",
    "        with open('{dp}{fn}'.format(dp=dp, fn=fn), 'r') as f:\n",
    "            x.append(f.read())\n",
    "    return x\n",
    "\n",
    "x_tr_pos = np.array(load_data('./dataset/train/pos/'), dtype=np.str)\n",
    "x_tr_neg = np.array(load_data('./dataset/train/neg/'), dtype=np.str)\n",
    "x_tr = np.concatenate((x_tr_pos, x_tr_neg), axis=0)\n",
    "y_tr = np.concatenate((np.ones_like(x_tr_pos, dtype=np.float64), np.zeros_like(x_tr_neg, dtype=np.float64)), axis=0)\n",
    "x_ts = np.array(load_data('./dataset/test/'), dtype=np.str)\n",
    "\n",
    "del x_tr_pos\n",
    "del x_tr_neg"
   ]
  },
  {
   "cell_type": "markdown",
   "metadata": {},
   "source": [
    "#### Applying Feature Construction pipeline"
   ]
  },
  {
   "cell_type": "code",
   "execution_count": 4,
   "metadata": {},
   "outputs": [],
   "source": [
    "token_pattern = r'\\w+|[%s]' % string.punctuation\n",
    "cnt = CountVectorizer(token_pattern=token_pattern,\n",
    "                      ngram_range=(1, 3),\n",
    "                      binary=True)\n",
    "x_tr = cnt.fit_transform(x_tr)\n",
    "x_ts = cnt.transform(x_ts)"
   ]
  },
  {
   "cell_type": "markdown",
   "metadata": {},
   "source": [
    "#### Training the Classifier and testing it on few elements of test data"
   ]
  },
  {
   "cell_type": "code",
   "execution_count": 10,
   "metadata": {},
   "outputs": [],
   "source": [
    "cl_bnb = BernoulliNB().fit(x_tr[:, :10].toarray(), y_tr)\n",
    "cl_bnb_prd = cl_bnb.predict(x_ts[:100, :10].toarray())"
   ]
  },
  {
   "cell_type": "markdown",
   "metadata": {},
   "source": [
    "#### Testing Our implenmentation Against sklearn implemntation"
   ]
  },
  {
   "cell_type": "code",
   "execution_count": 11,
   "metadata": {},
   "outputs": [],
   "source": [
    "sk_bnb = naive_bayes.BernoulliNB().fit(x_tr[:, :10].toarray(), y_tr)\n",
    "sk_bnb_prd = sk_bnb.predict(x_ts[:100, :10].toarray())"
   ]
  },
  {
   "cell_type": "code",
   "execution_count": 15,
   "metadata": {},
   "outputs": [
    {
     "name": "stdout",
     "output_type": "stream",
     "text": [
      "Implementation Verified\n"
     ]
    }
   ],
   "source": [
    "correct = True\n",
    "for x, y in zip(cl_bnb_prd, sk_bnb_prd):\n",
    "    if x != y:\n",
    "        correct = False\n",
    "if correct:\n",
    "    print(\"Implementation Verified\")"
   ]
  },
  {
   "cell_type": "markdown",
   "metadata": {},
   "source": [
    "**Our Implementation of Bernoulli Naive Baye's give same results as implementation from Python scikit-learn library which confirms its correcteness.**"
   ]
  }
 ],
 "metadata": {
  "kernelspec": {
   "display_name": "Python 3",
   "language": "python",
   "name": "python3"
  },
  "language_info": {
   "codemirror_mode": {
    "name": "ipython",
    "version": 3
   },
   "file_extension": ".py",
   "mimetype": "text/x-python",
   "name": "python",
   "nbconvert_exporter": "python",
   "pygments_lexer": "ipython3",
   "version": "3.6.7"
  }
 },
 "nbformat": 4,
 "nbformat_minor": 2
}
